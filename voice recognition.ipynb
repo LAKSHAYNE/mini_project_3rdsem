{
 "cells": [
  {
   "cell_type": "code",
   "execution_count": 29,
   "metadata": {},
   "outputs": [],
   "source": [
    "import speech_recognition as sr"
   ]
  },
  {
   "cell_type": "code",
   "execution_count": 30,
   "metadata": {},
   "outputs": [],
   "source": [
    "import webbrowser"
   ]
  },
  {
   "cell_type": "code",
   "execution_count": 31,
   "metadata": {},
   "outputs": [
    {
     "data": {
      "text/plain": [
       "<speech_recognition.Microphone at 0x21f6f697148>"
      ]
     },
     "execution_count": 31,
     "metadata": {},
     "output_type": "execute_result"
    }
   ],
   "source": [
    "sr.Microphone(device_index=1)"
   ]
  },
  {
   "cell_type": "code",
   "execution_count": 44,
   "metadata": {},
   "outputs": [
    {
     "name": "stdout",
     "output_type": "stream",
     "text": [
      "Say 'web search' for a web search or say 'video' to stream a youtube video\n",
      "you said video\n",
      "which video you want stream\n",
      "searching for python\n"
     ]
    }
   ],
   "source": [
    "r=sr.Recognizer()\n",
    "r.energy_threshold=5000\n",
    "with sr.Microphone() as source:\n",
    "    print(\"Say 'web search' for a web search or say 'video' to stream a youtube video\")\n",
    "    audio=r.listen(source)\n",
    "    try:\n",
    "        text=r.recognize_google(audio)\n",
    "        print(\"you said {}\".format(text))\n",
    "        if(text==\"video\"):\n",
    "            print(\"which video you want stream\")\n",
    "            audio=r.listen(source)\n",
    "            src=r.recognize_google(audio)\n",
    "            print(\"searching for {}\".format(src))\n",
    "            url=\"https://youtube.co.in/search?q=\"\n",
    "        elif(text==\"web search\"):\n",
    "            print(\"which what do you want to search \")\n",
    "            audio=r.listen(source)\n",
    "            src=r.recognize_google(audio)\n",
    "            print(\"playing {} video\".format(src))\n",
    "            url=\"https://google.co.in/search?q=\"\n",
    "        search_url=url+src\n",
    "        webbrowser.open(search_url)\n",
    "    except:\n",
    "        print(\"can't recognize\")"
   ]
  },
  {
   "cell_type": "code",
   "execution_count": null,
   "metadata": {},
   "outputs": [],
   "source": []
  }
 ],
 "metadata": {
  "kernelspec": {
   "display_name": "Python 3",
   "language": "python",
   "name": "python3"
  },
  "language_info": {
   "codemirror_mode": {
    "name": "ipython",
    "version": 3
   },
   "file_extension": ".py",
   "mimetype": "text/x-python",
   "name": "python",
   "nbconvert_exporter": "python",
   "pygments_lexer": "ipython3",
   "version": "3.7.6"
  }
 },
 "nbformat": 4,
 "nbformat_minor": 4
}
